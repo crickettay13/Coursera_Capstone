{
 "cells": [
  {
   "cell_type": "markdown",
   "metadata": {},
   "source": [
    "# Capstone Project--The Battle of Neighborhoods"
   ]
  },
  {
   "cell_type": "markdown",
   "metadata": {},
   "source": [
    "## Table of Contents\n",
    "* [Introduction (and Business Problem)](#introduction)\n",
    "* [Data](#data)"
   ]
  },
  {
   "cell_type": "markdown",
   "metadata": {},
   "source": [
    "## Introduction (and Business Problem) <a name=\"introduction\"></a>"
   ]
  },
  {
   "cell_type": "markdown",
   "metadata": {},
   "source": [
    "**Pittsburgh, PA** is the city I am currently living in. I've been here for almost two years and it is generally a good place to live. There is a variety of restaurants around the city but how are they distributed among different areas? What if I want to find a restaurant of a specific type, where should I go? If I want to open a new restaurant, which kind of it should I choose for each location? These kinds of problems would be anwsered in this project by using data science techniques, specifically clustering, and other methods. Be prepared, and start the gourmet adventure of three rivers!"
   ]
  },
  {
   "cell_type": "markdown",
   "metadata": {},
   "source": [
    "## Data <a name=\"data\"></a>"
   ]
  },
  {
   "cell_type": "markdown",
   "metadata": {},
   "source": [
    "In this preject, we need different geo-spatial information about Pittsburgh.  \n",
    "\n",
    "First, we need **zip codes and their coordinates of Pittsburgh neighborhoods**. This can be obtained from some internet sources. For this project, I am using the data from *US Zip Code Latitude and Longitude* [https://public.opendatasoft.com/explore/dataset/us-zip-code-latitude-and-longitude/table/], specifically the data of Pennsylvania and do some data cleaning to get the data we need.   \n",
    "\n",
    "Next, we need **restrant information of each neighborhood**, using Foursquare API. Using this data, we can cluster the neighborhoods and find the pattern of different kinds of restaurants in each neighborhood."
   ]
  },
  {
   "cell_type": "markdown",
   "metadata": {},
   "source": [
    "### Import the coordinate data of Pennsylvania"
   ]
  },
  {
   "cell_type": "code",
   "execution_count": 3,
   "metadata": {},
   "outputs": [
    {
     "data": {
      "text/html": [
       "<div>\n",
       "<style scoped>\n",
       "    .dataframe tbody tr th:only-of-type {\n",
       "        vertical-align: middle;\n",
       "    }\n",
       "\n",
       "    .dataframe tbody tr th {\n",
       "        vertical-align: top;\n",
       "    }\n",
       "\n",
       "    .dataframe thead th {\n",
       "        text-align: right;\n",
       "    }\n",
       "</style>\n",
       "<table border=\"1\" class=\"dataframe\">\n",
       "  <thead>\n",
       "    <tr style=\"text-align: right;\">\n",
       "      <th></th>\n",
       "      <th>Zip</th>\n",
       "      <th>City</th>\n",
       "      <th>State</th>\n",
       "      <th>Latitude</th>\n",
       "      <th>Longitude</th>\n",
       "      <th>Timezone</th>\n",
       "      <th>Daylight savings time flag</th>\n",
       "      <th>Latitude.1</th>\n",
       "      <th>Longitude.1</th>\n",
       "    </tr>\n",
       "  </thead>\n",
       "  <tbody>\n",
       "    <tr>\n",
       "      <th>0</th>\n",
       "      <td>17932</td>\n",
       "      <td>Frackville</td>\n",
       "      <td>PA</td>\n",
       "      <td>40.649109</td>\n",
       "      <td>-76.503339</td>\n",
       "      <td>-5</td>\n",
       "      <td>1</td>\n",
       "      <td>40.649109</td>\n",
       "      <td>-76.503339</td>\n",
       "    </tr>\n",
       "    <tr>\n",
       "      <th>1</th>\n",
       "      <td>18947</td>\n",
       "      <td>Pipersville</td>\n",
       "      <td>PA</td>\n",
       "      <td>40.426391</td>\n",
       "      <td>-75.118420</td>\n",
       "      <td>-5</td>\n",
       "      <td>1</td>\n",
       "      <td>40.426391</td>\n",
       "      <td>-75.118420</td>\n",
       "    </tr>\n",
       "    <tr>\n",
       "      <th>2</th>\n",
       "      <td>15278</td>\n",
       "      <td>Pittsburgh</td>\n",
       "      <td>PA</td>\n",
       "      <td>40.434436</td>\n",
       "      <td>-80.024817</td>\n",
       "      <td>-5</td>\n",
       "      <td>1</td>\n",
       "      <td>40.434436</td>\n",
       "      <td>-80.024817</td>\n",
       "    </tr>\n",
       "    <tr>\n",
       "      <th>3</th>\n",
       "      <td>15482</td>\n",
       "      <td>Star Junction</td>\n",
       "      <td>PA</td>\n",
       "      <td>40.062849</td>\n",
       "      <td>-79.763380</td>\n",
       "      <td>-5</td>\n",
       "      <td>1</td>\n",
       "      <td>40.062849</td>\n",
       "      <td>-79.763380</td>\n",
       "    </tr>\n",
       "    <tr>\n",
       "      <th>4</th>\n",
       "      <td>15227</td>\n",
       "      <td>Pittsburgh</td>\n",
       "      <td>PA</td>\n",
       "      <td>40.377869</td>\n",
       "      <td>-79.975160</td>\n",
       "      <td>-5</td>\n",
       "      <td>1</td>\n",
       "      <td>40.377869</td>\n",
       "      <td>-79.975160</td>\n",
       "    </tr>\n",
       "  </tbody>\n",
       "</table>\n",
       "</div>"
      ],
      "text/plain": [
       "     Zip           City State   Latitude  Longitude  Timezone  \\\n",
       "0  17932     Frackville    PA  40.649109 -76.503339        -5   \n",
       "1  18947    Pipersville    PA  40.426391 -75.118420        -5   \n",
       "2  15278     Pittsburgh    PA  40.434436 -80.024817        -5   \n",
       "3  15482  Star Junction    PA  40.062849 -79.763380        -5   \n",
       "4  15227     Pittsburgh    PA  40.377869 -79.975160        -5   \n",
       "\n",
       "   Daylight savings time flag  Latitude.1  Longitude.1  \n",
       "0                           1   40.649109   -76.503339  \n",
       "1                           1   40.426391   -75.118420  \n",
       "2                           1   40.434436   -80.024817  \n",
       "3                           1   40.062849   -79.763380  \n",
       "4                           1   40.377869   -79.975160  "
      ]
     },
     "execution_count": 3,
     "metadata": {},
     "output_type": "execute_result"
    }
   ],
   "source": [
    "import pandas as pd\n",
    "penn_data = pd.read_csv('us-zip-code-latitude-and-longitude.csv')\n",
    "penn_data.head()"
   ]
  },
  {
   "cell_type": "markdown",
   "metadata": {},
   "source": [
    "### Drop the irrelevant columns"
   ]
  },
  {
   "cell_type": "code",
   "execution_count": 4,
   "metadata": {},
   "outputs": [
    {
     "data": {
      "text/html": [
       "<div>\n",
       "<style scoped>\n",
       "    .dataframe tbody tr th:only-of-type {\n",
       "        vertical-align: middle;\n",
       "    }\n",
       "\n",
       "    .dataframe tbody tr th {\n",
       "        vertical-align: top;\n",
       "    }\n",
       "\n",
       "    .dataframe thead th {\n",
       "        text-align: right;\n",
       "    }\n",
       "</style>\n",
       "<table border=\"1\" class=\"dataframe\">\n",
       "  <thead>\n",
       "    <tr style=\"text-align: right;\">\n",
       "      <th></th>\n",
       "      <th>Zip</th>\n",
       "      <th>City</th>\n",
       "      <th>Latitude</th>\n",
       "      <th>Longitude</th>\n",
       "    </tr>\n",
       "  </thead>\n",
       "  <tbody>\n",
       "    <tr>\n",
       "      <th>0</th>\n",
       "      <td>17932</td>\n",
       "      <td>Frackville</td>\n",
       "      <td>40.649109</td>\n",
       "      <td>-76.503339</td>\n",
       "    </tr>\n",
       "    <tr>\n",
       "      <th>1</th>\n",
       "      <td>18947</td>\n",
       "      <td>Pipersville</td>\n",
       "      <td>40.426391</td>\n",
       "      <td>-75.118420</td>\n",
       "    </tr>\n",
       "    <tr>\n",
       "      <th>2</th>\n",
       "      <td>15278</td>\n",
       "      <td>Pittsburgh</td>\n",
       "      <td>40.434436</td>\n",
       "      <td>-80.024817</td>\n",
       "    </tr>\n",
       "    <tr>\n",
       "      <th>3</th>\n",
       "      <td>15482</td>\n",
       "      <td>Star Junction</td>\n",
       "      <td>40.062849</td>\n",
       "      <td>-79.763380</td>\n",
       "    </tr>\n",
       "    <tr>\n",
       "      <th>4</th>\n",
       "      <td>15227</td>\n",
       "      <td>Pittsburgh</td>\n",
       "      <td>40.377869</td>\n",
       "      <td>-79.975160</td>\n",
       "    </tr>\n",
       "  </tbody>\n",
       "</table>\n",
       "</div>"
      ],
      "text/plain": [
       "     Zip           City   Latitude  Longitude\n",
       "0  17932     Frackville  40.649109 -76.503339\n",
       "1  18947    Pipersville  40.426391 -75.118420\n",
       "2  15278     Pittsburgh  40.434436 -80.024817\n",
       "3  15482  Star Junction  40.062849 -79.763380\n",
       "4  15227     Pittsburgh  40.377869 -79.975160"
      ]
     },
     "execution_count": 4,
     "metadata": {},
     "output_type": "execute_result"
    }
   ],
   "source": [
    "penn_data.drop(['State', 'Timezone', 'Daylight savings time flag', 'Latitude.1', 'Longitude.1'], \n",
    "               axis=1, inplace=True)\n",
    "penn_data.head()"
   ]
  },
  {
   "cell_type": "markdown",
   "metadata": {},
   "source": [
    "### Get the zipcodes of Pittsburgh"
   ]
  },
  {
   "cell_type": "code",
   "execution_count": 11,
   "metadata": {},
   "outputs": [
    {
     "data": {
      "text/html": [
       "<div>\n",
       "<style scoped>\n",
       "    .dataframe tbody tr th:only-of-type {\n",
       "        vertical-align: middle;\n",
       "    }\n",
       "\n",
       "    .dataframe tbody tr th {\n",
       "        vertical-align: top;\n",
       "    }\n",
       "\n",
       "    .dataframe thead th {\n",
       "        text-align: right;\n",
       "    }\n",
       "</style>\n",
       "<table border=\"1\" class=\"dataframe\">\n",
       "  <thead>\n",
       "    <tr style=\"text-align: right;\">\n",
       "      <th></th>\n",
       "      <th>Zip</th>\n",
       "      <th>City</th>\n",
       "      <th>Latitude</th>\n",
       "      <th>Longitude</th>\n",
       "    </tr>\n",
       "  </thead>\n",
       "  <tbody>\n",
       "    <tr>\n",
       "      <th>0</th>\n",
       "      <td>15278</td>\n",
       "      <td>Pittsburgh</td>\n",
       "      <td>40.434436</td>\n",
       "      <td>-80.024817</td>\n",
       "    </tr>\n",
       "    <tr>\n",
       "      <th>1</th>\n",
       "      <td>15227</td>\n",
       "      <td>Pittsburgh</td>\n",
       "      <td>40.377869</td>\n",
       "      <td>-79.975160</td>\n",
       "    </tr>\n",
       "    <tr>\n",
       "      <th>2</th>\n",
       "      <td>15238</td>\n",
       "      <td>Pittsburgh</td>\n",
       "      <td>40.518701</td>\n",
       "      <td>-79.867440</td>\n",
       "    </tr>\n",
       "    <tr>\n",
       "      <th>3</th>\n",
       "      <td>15242</td>\n",
       "      <td>Pittsburgh</td>\n",
       "      <td>40.434436</td>\n",
       "      <td>-80.024817</td>\n",
       "    </tr>\n",
       "    <tr>\n",
       "      <th>4</th>\n",
       "      <td>15236</td>\n",
       "      <td>Pittsburgh</td>\n",
       "      <td>40.342869</td>\n",
       "      <td>-79.979290</td>\n",
       "    </tr>\n",
       "  </tbody>\n",
       "</table>\n",
       "</div>"
      ],
      "text/plain": [
       "     Zip        City   Latitude  Longitude\n",
       "0  15278  Pittsburgh  40.434436 -80.024817\n",
       "1  15227  Pittsburgh  40.377869 -79.975160\n",
       "2  15238  Pittsburgh  40.518701 -79.867440\n",
       "3  15242  Pittsburgh  40.434436 -80.024817\n",
       "4  15236  Pittsburgh  40.342869 -79.979290"
      ]
     },
     "execution_count": 11,
     "metadata": {},
     "output_type": "execute_result"
    }
   ],
   "source": [
    "pitt_data = penn_data[penn_data['City'].astype(str).str.contains('Pittsburgh')].reset_index(drop=True)\n",
    "pitt_data.head()"
   ]
  },
  {
   "cell_type": "code",
   "execution_count": 12,
   "metadata": {},
   "outputs": [
    {
     "data": {
      "text/plain": [
       "(79, 4)"
      ]
     },
     "execution_count": 12,
     "metadata": {},
     "output_type": "execute_result"
    }
   ],
   "source": [
    "pitt_data.shape"
   ]
  },
  {
   "cell_type": "code",
   "execution_count": null,
   "metadata": {},
   "outputs": [],
   "source": []
  }
 ],
 "metadata": {
  "kernelspec": {
   "display_name": "Python 3",
   "language": "python",
   "name": "python3"
  },
  "language_info": {
   "codemirror_mode": {
    "name": "ipython",
    "version": 3
   },
   "file_extension": ".py",
   "mimetype": "text/x-python",
   "name": "python",
   "nbconvert_exporter": "python",
   "pygments_lexer": "ipython3",
   "version": "3.7.3"
  }
 },
 "nbformat": 4,
 "nbformat_minor": 2
}
